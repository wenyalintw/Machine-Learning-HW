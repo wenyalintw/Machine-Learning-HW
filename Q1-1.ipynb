{
 "cells": [
  {
   "cell_type": "code",
   "execution_count": null,
   "metadata": {},
   "outputs": [],
   "source": [
    "%matplotlib inline\n",
    "import matplotlib.pyplot as plt\n",
    "import numpy as np\n",
    "\n",
    "### 繪圖前參數設定 ###\n",
    "#設定m(mean value)為.....\n",
    "m = 128\n",
    "#為了看出E值的變化對圖形造成的影響，設定繪出21條線；E的值為0.0~10.0(以0.5為區間)\n",
    "lines = 21\n",
    "E = np.linspace(0, 10, lines)\n",
    "\n",
    "#設定座標。r也就是x座標（輸入值），s也就是y座標（輸出值）\n",
    "#避免divide by zero\n",
    "r = np.linspace(1e-10, 255, 1000)\n",
    "s = np.zeros_like(E)\n",
    "\n",
    "### 開始進行繪圖 ###\n",
    "plt.figure(figsize=(8,6))\n",
    "plt.xlabel('input r', fontsize=16)\n",
    "plt.ylabel('mapping to s', fontsize=16)\n",
    "plt.title(r'$s=T(r)=\\mathtt{\\frac{1}{1+(m/r)^E}}$'+' , m=128', fontsize=20, y=1.05)\n",
    "\n",
    "for i in range(lines):\n",
    "    s = (1 / (1+(m/r)**E[i]))\n",
    "    if(i%3 is 0):\n",
    "        plt.plot(r, s, label = 'E='+str(E[i]))\n",
    "    elif((i%3 is 1)):\n",
    "        plt.plot(r, s, '--',label = 'E='+str(E[i]))\n",
    "    else:\n",
    "        plt.plot(r, s, ':',label = 'E='+str(E[i]))\n",
    "    \n",
    "lgd = plt.legend(loc='right', bbox_to_anchor=(1.38, 0.5), ncol=2, fancybox=True, shadow=True)\n",
    "plt.annotate('increasing E', xy=(120, 0.9), xytext=(200, 0.35), arrowprops=dict(arrowstyle=\"fancy, head_length=0.8, head_width=0.8, tail_width=0.8\", fc=\"0.4\", ec=\"none\", connectionstyle=\"angle3,angleB=180,angleA=90\"))\n",
    "\n",
    "plt.savefig(\"Q1-1.png\", bbox_extra_artists=(lgd,), bbox_inches='tight', dpi=300)\n",
    "plt.show()\n"
   ]
  }
 ],
 "metadata": {
  "kernelspec": {
   "display_name": "Python 3",
   "language": "python",
   "name": "python3"
  },
  "language_info": {
   "codemirror_mode": {
    "name": "ipython",
    "version": 3
   },
   "file_extension": ".py",
   "mimetype": "text/x-python",
   "name": "python",
   "nbconvert_exporter": "python",
   "pygments_lexer": "ipython3",
   "version": "3.6.7"
  }
 },
 "nbformat": 4,
 "nbformat_minor": 2
}
