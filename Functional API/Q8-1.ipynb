{
 "cells": [
  {
   "cell_type": "markdown",
   "metadata": {},
   "source": [
    "# Python機器學習與深度學習入門 \n",
    "## Question ：使用Functional API建構NN，並加入分叉\n",
    "## by R07522717 林温雅"
   ]
  },
  {
   "cell_type": "markdown",
   "metadata": {},
   "source": [
    "`Package`"
   ]
  },
  {
   "cell_type": "code",
   "execution_count": 1,
   "metadata": {},
   "outputs": [
    {
     "name": "stdout",
     "output_type": "stream",
     "text": [
      "env: KERAS_BACKEND=tensorflow\n"
     ]
    },
    {
     "name": "stderr",
     "output_type": "stream",
     "text": [
      "Using TensorFlow backend.\n"
     ]
    }
   ],
   "source": [
    "%env KERAS_BACKEND=tensorflow\n",
    "%matplotlib inline\n",
    "import matplotlib.pyplot as plt\n",
    "import numpy as np\n",
    "# Keras functions\n",
    "from keras.models import Sequential\n",
    "from keras.layers import Dense, Activation\n",
    "from keras.optimizers import SGD\n",
    "# Keras dataset\n",
    "from keras.datasets import mnist\n",
    "# Keras utils\n",
    "from keras.utils import np_utils\n",
    "# for Functional API\n",
    "from keras.models import Model\n",
    "from keras.layers import Input\n",
    "# for 分叉\n",
    "from keras.layers import concatenate, add"
   ]
  },
  {
   "cell_type": "markdown",
   "metadata": {},
   "source": [
    "`load進資料`"
   ]
  },
  {
   "cell_type": "code",
   "execution_count": 2,
   "metadata": {},
   "outputs": [],
   "source": [
    "(x_train, y_train), (x_test, y_test) = mnist.load_data()"
   ]
  },
  {
   "cell_type": "markdown",
   "metadata": {},
   "source": [
    "`資料reshape、正規化、1-hot encoding`"
   ]
  },
  {
   "cell_type": "code",
   "execution_count": 3,
   "metadata": {},
   "outputs": [],
   "source": [
    "x_train = x_train.reshape(60000, 784)\n",
    "x_test = x_test.reshape(10000, 784)\n",
    "\n",
    "x_train_norm = (x_train - x_train.min()) / (x_train.max() - x_train.min())\n",
    "x_test_norm = (x_test - x_test.min()) / (x_test.max() - x_test.min())\n",
    "\n",
    "y_train = np_utils.to_categorical(y_train, 10)\n",
    "y_test = np_utils.to_categorical(y_test, 10)"
   ]
  },
  {
   "cell_type": "markdown",
   "metadata": {},
   "source": [
    "## 設計一個分叉NN如下圖\n",
    "希望在分叉與融合的過程中能互相update成果\n",
    "<img src=\"flowchart.jpg\" alt=\"大家可以回家啦\" title=\"大家可以回家啦\" width=\"800\"/>  \n"
   ]
  },
  {
   "cell_type": "markdown",
   "metadata": {},
   "source": [
    "根據上週作業的測試結果，這邊使用relu作為Activation Function、kullback_leibler_divergence作為Loss Function"
   ]
  },
  {
   "cell_type": "markdown",
   "metadata": {},
   "source": [
    "`定義layer`"
   ]
  },
  {
   "cell_type": "code",
   "execution_count": 4,
   "metadata": {},
   "outputs": [],
   "source": [
    "f_1 = Dense(25, activation='relu')\n",
    "f_2 = Dense(25, activation='relu')\n",
    "f_3 = Dense(25, activation='relu')\n",
    "f_4 = Dense(50, activation='relu')\n",
    "f_5 = Dense(25, activation='relu')\n",
    "f_6 = Dense(75, activation='relu')\n",
    "f_7 = Dense(75, activation='relu')\n",
    "f_8 = Dense(10, activation='softmax')"
   ]
  },
  {
   "cell_type": "markdown",
   "metadata": {},
   "source": [
    "`設定input`"
   ]
  },
  {
   "cell_type": "code",
   "execution_count": 5,
   "metadata": {},
   "outputs": [],
   "source": [
    "x = Input(shape=(784,))"
   ]
  },
  {
   "cell_type": "markdown",
   "metadata": {},
   "source": [
    "`設定function串接`"
   ]
  },
  {
   "cell_type": "code",
   "execution_count": 6,
   "metadata": {},
   "outputs": [],
   "source": [
    "h_1 = f_1(x)\n",
    "h_2 = f_2(x)\n",
    "h_3 = f_3(x)\n",
    "u_1 = concatenate([h_1, h_2])\n",
    "h_4 = f_4(u_1)\n",
    "h_5 = f_5(x)\n",
    "u_2 = concatenate([h_3, h_4])\n",
    "h_6 = f_6(u_2)\n",
    "u_3 = concatenate([h_4, h_5])\n",
    "h_7 = f_7(u_3)\n",
    "u_4 = concatenate([h_6, h_7])\n",
    "y = f_8(u_4)"
   ]
  },
  {
   "cell_type": "markdown",
   "metadata": {},
   "source": [
    "`建立model`"
   ]
  },
  {
   "cell_type": "code",
   "execution_count": 7,
   "metadata": {},
   "outputs": [],
   "source": [
    "model = Model(x, y)\n",
    "model.compile(loss='kullback_leibler_divergence', optimizer=SGD(lr=0.2), metrics=['accuracy'])"
   ]
  },
  {
   "cell_type": "markdown",
   "metadata": {},
   "source": [
    "`Fit!`"
   ]
  },
  {
   "cell_type": "code",
   "execution_count": 8,
   "metadata": {},
   "outputs": [],
   "source": [
    "%%capture\n",
    "model_history = model.fit(x_train_norm, y_train, batch_size=128, epochs=50,\n",
    "                        validation_data = (x_test_norm, y_test),\n",
    "                         verbose = 2, shuffle = True)"
   ]
  },
  {
   "cell_type": "code",
   "execution_count": 9,
   "metadata": {},
   "outputs": [
    {
     "data": {
      "image/png": "[encoded data removed]",
      "text/plain": [
       "<Figure size 1152x360 with 2 Axes>"
      ]
     },
     "metadata": {
      "needs_background": "light"
     },
     "output_type": "display_data"
    }
   ],
   "source": [
    "fig = plt.figure(figsize=(16,5))\n",
    "ax1 = fig.add_subplot(1,2,1)\n",
    "plt.plot(model_history.history[\"acc\"])\n",
    "\n",
    "plt.title(\"model training accuracy\")\n",
    "plt.ylabel(\"accuracy\")\n",
    "plt.xlabel(\"epoch\")\n",
    "plt.legend([\"model_final\"], loc = \"best\")\n",
    "\n",
    "ax2 = fig.add_subplot(1,2,2)\n",
    "plt.plot(model_history.history[\"val_acc\"])\n",
    "\n",
    "plt.title(\"model validation accuracy\")\n",
    "plt.ylabel(\"accuracy\")\n",
    "plt.xlabel(\"epoch\")\n",
    "plt.legend([\"model_final\"], loc = \"best\")\n",
    "\n",
    "plt.show()"
   ]
  },
  {
   "cell_type": "code",
   "execution_count": 10,
   "metadata": {},
   "outputs": [
    {
     "name": "stdout",
     "output_type": "stream",
     "text": [
      "最高training accuracy： 0.9999833333333333\n",
      "發生在epoch = 28\n",
      "最高validation accuracy： 0.9814\n",
      "發生在epoch = 34\n"
     ]
    }
   ],
   "source": [
    "max_acc = max(model_history.history[\"acc\"])\n",
    "max_index = model_history.history[\"acc\"].index(max_acc)\n",
    "max_valacc = max(model_history.history[\"val_acc\"])\n",
    "max_valindex = model_history.history[\"val_acc\"].index(max_valacc)\n",
    "print(f'最高training accuracy： {max_acc}\\n發生在epoch = {max_index}')\n",
    "print(f'最高validation accuracy： {max_valacc}\\n發生在epoch = {max_valindex}')"
   ]
  },
  {
   "cell_type": "code",
   "execution_count": 11,
   "metadata": {},
   "outputs": [
    {
     "name": "stdout",
     "output_type": "stream",
     "text": [
      "10000/10000 [==============================] - 0s 9us/step\n",
      "Loss: 0.102212\n",
      "準確率: 98.089999\n"
     ]
    }
   ],
   "source": [
    "score = model.evaluate(x_test_norm, y_test, batch_size=10000)\n",
    "print(\"Loss: %f\" %score[0])\n",
    "print(\"準確率: %f\" %(score[1]*100))"
   ]
  },
  {
   "cell_type": "markdown",
   "metadata": {},
   "source": [
    "此設計model大約可達到98%之正確率！"
   ]
  }
 ],
 "metadata": {
  "kernelspec": {
   "display_name": "Python 3",
   "language": "python",
   "name": "python3"
  },
  "language_info": {
   "codemirror_mode": {
    "name": "ipython",
    "version": 3
   },
   "file_extension": ".py",
   "mimetype": "text/x-python",
   "name": "python",
   "nbconvert_exporter": "python",
   "pygments_lexer": "ipython3",
   "version": "3.6.7"
  }
 },
 "nbformat": 4,
 "nbformat_minor": 2
}
