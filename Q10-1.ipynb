{
 "cells": [
  {
   "cell_type": "markdown",
   "metadata": {},
   "source": [
    "# Python機器學習與深度學習入門 \n",
    "## Q10-1 ：用RNN做情意分析\n",
    "## by R07522717 林温雅"
   ]
  },
  {
   "cell_type": "markdown",
   "metadata": {},
   "source": [
    "`Package`"
   ]
  },
  {
   "cell_type": "code",
   "execution_count": 1,
   "metadata": {},
   "outputs": [
    {
     "name": "stderr",
     "output_type": "stream",
     "text": [
      "Using TensorFlow backend.\n"
     ]
    }
   ],
   "source": [
    "import numpy as np\n",
    "import matplotlib.pyplot as plt\n",
    "import tensorflow as tf\n",
    "from keras.datasets import imdb\n",
    "from keras.models import Sequential\n",
    "from keras.layers import Dense, Embedding, BatchNormalization, Dropout, LSTM\n",
    "from keras.preprocessing import sequence\n",
    "from keras.callbacks import EarlyStopping"
   ]
  },
  {
   "cell_type": "code",
   "execution_count": 2,
   "metadata": {},
   "outputs": [
    {
     "name": "stdout",
     "output_type": "stream",
     "text": [
      "True\n"
     ]
    }
   ],
   "source": [
    "config = tf.ConfigProto()\n",
    "config.gpu_options.allow_growth = True\n",
    "print(tf.test.is_gpu_available())"
   ]
  },
  {
   "cell_type": "markdown",
   "metadata": {},
   "source": [
    "為求測試時每次data相同，固定seed=5  \n",
    "因常出現的字可能為\"I\"、\"you\"、\"this\"、\"movie\"等字，和好評負評較無直接關係，跳過前20個字"
   ]
  },
  {
   "cell_type": "code",
   "execution_count": 310,
   "metadata": {},
   "outputs": [],
   "source": [
    "(x_train, y_train), (x_test, y_test) = imdb.load_data(num_words=10000, skip_top=20, seed=5)"
   ]
  },
  {
   "cell_type": "code",
   "execution_count": 311,
   "metadata": {
    "collapsed": true
   },
   "outputs": [],
   "source": [
    "x_train = sequence.pad_sequences(x_train, maxlen=180)\n",
    "x_test = sequence.pad_sequences(x_test, maxlen=180)"
   ]
  },
  {
   "cell_type": "markdown",
   "metadata": {},
   "source": [
    "## Testing vs. Validation\n",
    "### 若針對\"testing data\"改參數，是否是對testing data的\"overfitting\"?\n",
    "\n",
    "與R07522821許鐘元同學討論後，決定在訓練時，養成不偷看答案來調參數的習慣  \n",
    "不將testing data當作validation data監控accuracy，因此將training data切2000筆出來當作validation data  \n",
    "訓練model時監控這組data的accuracy，就比較沒有偷看答案的問題"
   ]
  },
  {
   "cell_type": "code",
   "execution_count": 312,
   "metadata": {},
   "outputs": [],
   "source": [
    "x_valid = x_train[23000:]\n",
    "y_valid = y_train[23000:]\n",
    "x_train = x_train[:23000]\n",
    "y_train = y_train[:23000]"
   ]
  },
  {
   "cell_type": "code",
   "execution_count": 313,
   "metadata": {
    "collapsed": true
   },
   "outputs": [],
   "source": [
    "N = 128\n",
    "K = 64"
   ]
  },
  {
   "cell_type": "code",
   "execution_count": 314,
   "metadata": {},
   "outputs": [
    {
     "name": "stdout",
     "output_type": "stream",
     "text": [
      "_________________________________________________________________\n",
      "Layer (type)                 Output Shape              Param #   \n",
      "=================================================================\n",
      "embedding_46 (Embedding)     (None, None, 128)         1280000   \n",
      "_________________________________________________________________\n",
      "lstm_45 (LSTM)               (None, 64)                49408     \n",
      "_________________________________________________________________\n",
      "dense_113 (Dense)            (None, 1)                 65        \n",
      "_________________________________________________________________\n",
      "dropout_44 (Dropout)         (None, 1)                 0         \n",
      "=================================================================\n",
      "Total params: 1,329,473\n",
      "Trainable params: 1,329,473\n",
      "Non-trainable params: 0\n",
      "_________________________________________________________________\n"
     ]
    }
   ],
   "source": [
    "model = Sequential() \n",
    "model.add(Embedding(10000, N))\n",
    "model.add(LSTM(K, recurrent_dropout=0.1))\n",
    "model.add(Dense(1, activation='sigmoid'))\n",
    "model.add(Dropout(0.1))\n",
    "model.compile(loss='binary_crossentropy',\n",
    "             optimizer='adam',\n",
    "             metrics=['accuracy'])\n",
    "model.summary()"
   ]
  },
  {
   "cell_type": "code",
   "execution_count": 315,
   "metadata": {},
   "outputs": [
    {
     "name": "stdout",
     "output_type": "stream",
     "text": [
      "Train on 23000 samples, validate on 2000 samples\n",
      "Epoch 1/30\n",
      "23000/23000 [==============================] - 18s 777us/step - loss: 1.3853 - acc: 0.6228 - val_loss: 0.4887 - val_acc: 0.8055\n",
      "Epoch 2/30\n",
      "23000/23000 [==============================] - 14s 610us/step - loss: 1.1763 - acc: 0.7757 - val_loss: 0.5242 - val_acc: 0.7360\n",
      "Epoch 3/30\n",
      "23000/23000 [==============================] - 14s 608us/step - loss: 1.1652 - acc: 0.7978 - val_loss: 0.3765 - val_acc: 0.8485\n",
      "Epoch 4/30\n",
      "23000/23000 [==============================] - 14s 610us/step - loss: 1.0609 - acc: 0.8440 - val_loss: 0.3781 - val_acc: 0.8490\n",
      "Epoch 5/30\n",
      "23000/23000 [==============================] - 14s 607us/step - loss: 1.0464 - acc: 0.8593 - val_loss: 0.3640 - val_acc: 0.8490\n",
      "Epoch 6/30\n",
      "23000/23000 [==============================] - 14s 609us/step - loss: 0.9972 - acc: 0.8726 - val_loss: 0.3569 - val_acc: 0.8595\n",
      "Epoch 7/30\n",
      "23000/23000 [==============================] - 14s 607us/step - loss: 0.9556 - acc: 0.8846 - val_loss: 0.3574 - val_acc: 0.8540\n",
      "Epoch 8/30\n",
      "23000/23000 [==============================] - 14s 606us/step - loss: 0.9468 - acc: 0.8906 - val_loss: 0.3688 - val_acc: 0.8605\n",
      "Epoch 9/30\n",
      "23000/23000 [==============================] - 14s 608us/step - loss: 0.9915 - acc: 0.8905 - val_loss: 0.3747 - val_acc: 0.8560\n",
      "Epoch 10/30\n",
      "23000/23000 [==============================] - 14s 608us/step - loss: 0.9582 - acc: 0.8952 - val_loss: 0.3774 - val_acc: 0.8450\n",
      "Epoch 00010: early stopping\n",
      "Wall time: 2min 24s\n"
     ]
    }
   ],
   "source": [
    "%%time\n",
    "early_stopping = EarlyStopping('val_acc', patience=2, verbose=1)\n",
    "model_history = model.fit(x_train, y_train, batch_size=512, epochs=30, \n",
    "                          validation_data = (x_valid, y_valid), verbose = 1,\n",
    "                          shuffle = True, callbacks=[early_stopping])"
   ]
  },
  {
   "cell_type": "code",
   "execution_count": 316,
   "metadata": {},
   "outputs": [
    {
     "data": {
      "image/png": "[encoded data removed]",
      "text/plain": [
       "<matplotlib.figure.Figure at 0xb5e91d30>"
      ]
     },
     "metadata": {},
     "output_type": "display_data"
    }
   ],
   "source": [
    "fig = plt.figure(figsize=(16,5))\n",
    "ax1 = fig.add_subplot(1,2,1)\n",
    "plt.plot(model_history.history[\"acc\"])\n",
    "\n",
    "plt.title(\"model training accuracy\")\n",
    "plt.ylabel(\"accuracy\")\n",
    "plt.xlabel(\"epoch\")\n",
    "plt.legend([\"model_final\"], loc = \"best\")\n",
    "\n",
    "ax2 = fig.add_subplot(1,2,2)\n",
    "plt.plot(model_history.history[\"val_acc\"])\n",
    "\n",
    "plt.title(\"model validation accuracy\")\n",
    "plt.ylabel(\"accuracy\")\n",
    "plt.xlabel(\"epoch\")\n",
    "plt.legend([\"model_final\"], loc = \"best\")\n",
    "\n",
    "plt.show()"
   ]
  },
  {
   "cell_type": "code",
   "execution_count": 317,
   "metadata": {},
   "outputs": [
    {
     "name": "stdout",
     "output_type": "stream",
     "text": [
      "最高training accuracy： 0.8951739133544591\n",
      "發生在epoch = 9\n",
      "最高validation accuracy： 0.8604999952316285\n",
      "發生在epoch = 7\n"
     ]
    }
   ],
   "source": [
    "max_acc = max(model_history.history[\"acc\"])\n",
    "max_index = model_history.history[\"acc\"].index(max_acc)\n",
    "max_valacc = max(model_history.history[\"val_acc\"])\n",
    "max_valindex = model_history.history[\"val_acc\"].index(max_valacc)\n",
    "print(f'最高training accuracy： {max_acc}\\n發生在epoch = {max_index}')\n",
    "print(f'最高validation accuracy： {max_valacc}\\n發生在epoch = {max_valindex}')"
   ]
  },
  {
   "cell_type": "code",
   "execution_count": 319,
   "metadata": {},
   "outputs": [
    {
     "name": "stdout",
     "output_type": "stream",
     "text": [
      "25000/25000 [==============================] - 13s 509us/step\n",
      "Loss: 0.393364\n",
      "testing accuracy: 83.728000\n"
     ]
    }
   ],
   "source": [
    "score = model.evaluate(x_test, y_test, batch_size=128)\n",
    "print(\"Loss: %f\" %score[0])\n",
    "print(\"testing accuracy: %f\" %(score[1]*100))"
   ]
  },
  {
   "cell_type": "markdown",
   "metadata": {},
   "source": [
    "試過許多配置都沒讓val_acc超過87%  \n",
    "在Validation data下最高可以有86%左右的正確率，然而在Testing data下僅83.72%  "
   ]
  },
  {
   "cell_type": "markdown",
   "metadata": {},
   "source": [
    "### [同場加映Keras官方範例](https://github.com/keras-team/keras/blob/master/examples/imdb_lstm.py)\n",
    "Keras範例是直接將testing data當作validation data，或許在進行基本測試時不需太嚴謹對這兩者做出區分  \n",
    "但我認為若要做泛用型的Model應當還是將這兩者分別清楚較佳\n",
    "\n",
    "官方範例大概是81%左右之準確度"
   ]
  },
  {
   "cell_type": "code",
   "execution_count": 309,
   "metadata": {
    "scrolled": false
   },
   "outputs": [
    {
     "name": "stdout",
     "output_type": "stream",
     "text": [
      "Loading data...\n",
      "25000 train sequences\n",
      "25000 test sequences\n",
      "Pad sequences (samples x time)\n",
      "x_train shape: (25000, 80)\n",
      "x_test shape: (25000, 80)\n",
      "Build model...\n",
      "Train...\n",
      "Train on 25000 samples, validate on 25000 samples\n",
      "Epoch 1/15\n",
      "25000/25000 [==============================] - 141s 6ms/step - loss: 0.4575 - acc: 0.7842 - val_loss: 0.3919 - val_acc: 0.8272\n",
      "Epoch 2/15\n",
      "25000/25000 [==============================] - 137s 5ms/step - loss: 0.2974 - acc: 0.8795 - val_loss: 0.3919 - val_acc: 0.8244\n",
      "Epoch 3/15\n",
      "25000/25000 [==============================] - 138s 6ms/step - loss: 0.2184 - acc: 0.9165 - val_loss: 0.4252 - val_acc: 0.8203\n",
      "Epoch 4/15\n",
      "25000/25000 [==============================] - 138s 6ms/step - loss: 0.1514 - acc: 0.9428 - val_loss: 0.4616 - val_acc: 0.8286\n",
      "Epoch 5/15\n",
      "25000/25000 [==============================] - 138s 6ms/step - loss: 0.1080 - acc: 0.9612 - val_loss: 0.5302 - val_acc: 0.8254\n",
      "Epoch 6/15\n",
      "25000/25000 [==============================] - 138s 6ms/step - loss: 0.0761 - acc: 0.9735 - val_loss: 0.6674 - val_acc: 0.8187\n",
      "Epoch 7/15\n",
      "25000/25000 [==============================] - 138s 6ms/step - loss: 0.0610 - acc: 0.9788 - val_loss: 0.7602 - val_acc: 0.8150\n",
      "Epoch 8/15\n",
      "25000/25000 [==============================] - 138s 6ms/step - loss: 0.0511 - acc: 0.9824 - val_loss: 0.6939 - val_acc: 0.8166\n",
      "Epoch 9/15\n",
      "25000/25000 [==============================] - 138s 6ms/step - loss: 0.0313 - acc: 0.9889 - val_loss: 0.9689 - val_acc: 0.8159\n",
      "Epoch 10/15\n",
      "25000/25000 [==============================] - 138s 6ms/step - loss: 0.0262 - acc: 0.9913 - val_loss: 0.8863 - val_acc: 0.8058\n",
      "Epoch 11/15\n",
      "25000/25000 [==============================] - 137s 5ms/step - loss: 0.0221 - acc: 0.9926 - val_loss: 1.0106 - val_acc: 0.8118\n",
      "Epoch 12/15\n",
      "25000/25000 [==============================] - 138s 6ms/step - loss: 0.0153 - acc: 0.9952 - val_loss: 1.0375 - val_acc: 0.8124\n",
      "Epoch 13/15\n",
      "25000/25000 [==============================] - 138s 6ms/step - loss: 0.0165 - acc: 0.9944 - val_loss: 0.9772 - val_acc: 0.8144\n",
      "Epoch 14/15\n",
      "25000/25000 [==============================] - 138s 6ms/step - loss: 0.0129 - acc: 0.9961 - val_loss: 1.0096 - val_acc: 0.8118\n",
      "Epoch 15/15\n",
      "25000/25000 [==============================] - 138s 6ms/step - loss: 0.0146 - acc: 0.9952 - val_loss: 1.0447 - val_acc: 0.8092\n",
      "25000/25000 [==============================] - 25s 1ms/step\n",
      "Test score: 1.04469244631\n",
      "Test accuracy: 0.8092\n"
     ]
    }
   ],
   "source": [
    "from __future__ import print_function\n",
    "from keras.preprocessing import sequence\n",
    "from keras.models import Sequential\n",
    "from keras.layers import Dense, Embedding\n",
    "from keras.layers import LSTM\n",
    "from keras.datasets import imdb\n",
    "\n",
    "max_features = 20000\n",
    "maxlen = 80\n",
    "batch_size = 32\n",
    "\n",
    "print('Loading data...')\n",
    "(x_train, y_train), (x_test, y_test) = imdb.load_data(num_words=max_features)\n",
    "print(len(x_train), 'train sequences')\n",
    "print(len(x_test), 'test sequences')\n",
    "\n",
    "print('Pad sequences (samples x time)')\n",
    "x_train = sequence.pad_sequences(x_train, maxlen=maxlen)\n",
    "x_test = sequence.pad_sequences(x_test, maxlen=maxlen)\n",
    "print('x_train shape:', x_train.shape)\n",
    "print('x_test shape:', x_test.shape)\n",
    "\n",
    "print('Build model...')\n",
    "model = Sequential()\n",
    "model.add(Embedding(max_features, 128))\n",
    "model.add(LSTM(128, dropout=0.2, recurrent_dropout=0.2))\n",
    "model.add(Dense(1, activation='sigmoid'))\n",
    "\n",
    "model.compile(loss='binary_crossentropy',\n",
    "              optimizer='adam',\n",
    "              metrics=['accuracy'])\n",
    "\n",
    "print('Train...')\n",
    "model.fit(x_train, y_train,\n",
    "          batch_size=batch_size,\n",
    "          epochs=15,\n",
    "          validation_data=(x_test, y_test))\n",
    "score, acc = model.evaluate(x_test, y_test,\n",
    "                            batch_size=batch_size)\n",
    "print('Test score:', score)\n",
    "print('Test accuracy:', acc)"
   ]
  }
 ],
 "metadata": {
  "kernelspec": {
   "display_name": "Python 3",
   "language": "python",
   "name": "python3"
  },
  "language_info": {
   "codemirror_mode": {
    "name": "ipython",
    "version": 3
   },
   "file_extension": ".py",
   "mimetype": "text/x-python",
   "name": "python",
   "nbconvert_exporter": "python",
   "pygments_lexer": "ipython3",
   "version": "3.6.3"
  }
 },
 "nbformat": 4,
 "nbformat_minor": 2
}
