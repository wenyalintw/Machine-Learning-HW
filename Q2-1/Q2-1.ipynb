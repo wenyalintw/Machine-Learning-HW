{
 "cells": [
  {
   "cell_type": "markdown",
   "metadata": {},
   "source": [
    "# Python機器學習與深度學習入門 \n",
    "## Q2-1互動 (Interact) ：當然是選擇原諒她\n",
    "## by R07522717 林温雅"
   ]
  },
  {
   "cell_type": "markdown",
   "metadata": {},
   "source": [
    "`Package`"
   ]
  },
  {
   "cell_type": "code",
   "execution_count": 1,
   "metadata": {},
   "outputs": [],
   "source": [
    "%matplotlib inline\n",
    "import numpy as np\n",
    "import matplotlib.pyplot as plt\n",
    "from ipywidgets import interact, interactive\n",
    "import cv2\n",
    "import time\n",
    "from IPython.display import clear_output"
   ]
  },
  {
   "cell_type": "markdown",
   "metadata": {},
   "source": [
    "`Image & Video Input`"
   ]
  },
  {
   "cell_type": "code",
   "execution_count": 2,
   "metadata": {},
   "outputs": [],
   "source": [
    "# Image Input\n",
    "door = cv2.imread('door.jpg')\n",
    "space_t = np.ones((1,1), np.uint8)\n",
    "space_t.fill(255)\n",
    "space = cv2.cvtColor(space_t,cv2.cv2.COLOR_GRAY2RGB)\n",
    "open_door = cv2.imread('opendoor.jpg')\n",
    "bed = cv2.imread('bed.jpg')\n",
    "shock = cv2.imread('shock.jpg')\n",
    "forgive_pic = cv2.imread('forgive.jpg')\n",
    "notforgive_pic = cv2.imread('notforgive.jpg')\n",
    "\n",
    "# video Input\n",
    "walk_video = cv2.VideoCapture('walk.mp4')\n",
    "walk_video_len = int(walk_video.get(cv2.CAP_PROP_FRAME_COUNT))\n",
    "walk_frames = [None] * walk_video_len\n",
    "for i in range(walk_video_len):\n",
    "    walk_video.set(cv2.CAP_PROP_FRAME_COUNT , i)\n",
    "    ret,walk_frames[i] = walk_video.read()"
   ]
  },
  {
   "cell_type": "markdown",
   "metadata": {},
   "source": [
    "`Function`"
   ]
  },
  {
   "cell_type": "code",
   "execution_count": 3,
   "metadata": {},
   "outputs": [],
   "source": [
    "def widget_handle(index):\n",
    "    if index==1:\n",
    "        display(widget_walk)\n",
    "    if index==2:\n",
    "        print('333')\n",
    "        #widget_walk.close()\n",
    "        display(widget_opendoor)\n",
    "\n",
    "def walk(x=5):\n",
    "    if x==6:\n",
    "        display(widget_opendoor)\n",
    "    if x<=5:\n",
    "        fig_count = 6\n",
    "        fig = plt.figure(figsize=(40,40))\n",
    "\n",
    "        ax1 = fig.add_subplot(1,fig_count,x)\n",
    "        plt.imshow(walk_frames[x%4])\n",
    "        plt.axis('off')\n",
    "\n",
    "        for i in range(x+1,fig_count):\n",
    "            fig.add_subplot(1,fig_count,i)\n",
    "            plt.imshow(space, cmap='gray')\n",
    "            plt.axis('off')\n",
    "\n",
    "        ax2 = fig.add_subplot(1,fig_count,fig_count)\n",
    "        plt.imshow(door) \n",
    "        plt.axis('off')\n",
    "\n",
    "def opendoor(是否開門):\n",
    "    if 是否開門=='開':\n",
    "        fig = plt.figure(figsize=(6,6))\n",
    "        plt.imshow(open_door) \n",
    "        plt.axis('off')\n",
    "        plt.show()\n",
    "        time.sleep(2)\n",
    "        clear_output()\n",
    "        \n",
    "        fig = plt.figure(figsize=(12,6))\n",
    "             \n",
    "        ax1 = fig.add_subplot(1,2,1)\n",
    "        plt.imshow(shock)\n",
    "        plt.axis('off')\n",
    "        \n",
    "        ax2 = fig.add_subplot(1,2,2)\n",
    "        plt.imshow(bed)\n",
    "        plt.axis('off')\n",
    "        \n",
    "        plt.show()\n",
    "        time.sleep(2)\n",
    "        clear_output()\n",
    "        \n",
    "        display(widget_forgive)\n",
    "        \n",
    "    elif 是否開門=='不敢開':\n",
    "        print('只能選擇開門')\n",
    "\n",
    "def forgive(是否原諒):\n",
    "    if 是否原諒=='當然是選擇原諒她':\n",
    "        plt.imshow(forgive_pic)\n",
    "        plt.axis('off')\n",
    "        plt.show()\n",
    "    elif 是否原諒=='怎麼可以原諒她':\n",
    "        plt.imshow(notforgive_pic) \n",
    "        plt.axis('off')\n",
    "        plt.show()"
   ]
  },
  {
   "cell_type": "markdown",
   "metadata": {},
   "source": [
    "`Widgets Initialization`"
   ]
  },
  {
   "cell_type": "code",
   "execution_count": 4,
   "metadata": {},
   "outputs": [],
   "source": [
    "widget_walk = interactive(walk, x=(1,6))\n",
    "widget_opendoor = interactive(opendoor, 是否開門=['請選擇','開', '不敢開']);\n",
    "widget_forgive = interactive(forgive , 是否原諒=['請選擇','當然是選擇原諒她', '怎麼可以原諒她']);"
   ]
  },
  {
   "cell_type": "markdown",
   "metadata": {},
   "source": [
    "`Let's Go!`"
   ]
  },
  {
   "cell_type": "code",
   "execution_count": 5,
   "metadata": {},
   "outputs": [
    {
     "data": {
      "application/vnd.jupyter.widget-view+json": {
       "model_id": "ceac42cece2c4c0291849c32b2fdf4d7",
       "version_major": 2,
       "version_minor": 0
      },
      "text/plain": [
       "interactive(children=(IntSlider(value=5, description='x', max=6, min=1), Output()), _dom_classes=('widget-inte…"
      ]
     },
     "metadata": {},
     "output_type": "display_data"
    }
   ],
   "source": [
    "display(widget_walk)"
   ]
  }
 ],
 "metadata": {
  "kernelspec": {
   "display_name": "Python 3",
   "language": "python",
   "name": "python3"
  },
  "language_info": {
   "codemirror_mode": {
    "name": "ipython",
    "version": 3
   },
   "file_extension": ".py",
   "mimetype": "text/x-python",
   "name": "python",
   "nbconvert_exporter": "python",
   "pygments_lexer": "ipython3",
   "version": "3.6.7"
  }
 },
 "nbformat": 4,
 "nbformat_minor": 2
}
